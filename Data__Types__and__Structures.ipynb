{
  "nbformat": 4,
  "nbformat_minor": 0,
  "metadata": {
    "colab": {
      "provenance": []
    },
    "kernelspec": {
      "name": "python3",
      "display_name": "Python 3"
    },
    "language_info": {
      "name": "python"
    }
  },
  "cells": [
    {
      "cell_type": "markdown",
      "source": [
        "#Data Types and Structures\n",
        "\n"
      ],
      "metadata": {
        "id": "Wjm8pW_DesG2"
      }
    },
    {
      "cell_type": "markdown",
      "source": [
        "1. What are data structures, and why are they important?\n",
        "   * Data Structures are a way of organizing data so that it can  \n",
        "     be accessed more efficiently depending upon the situation.  \n",
        "\n",
        "   * Data Structures are fundamentals of any programming language\n",
        "     around which a program is built.\n",
        "     \n",
        "   * They determine how data is arranged in memory and how\n",
        "     operations like retrieval, insertion, and deletion are performed.\n",
        "\n",
        "     - Data Structures are important for Efficient Data Management,Enabling complex data representations,Performance optimization,Readability and Maintainability"
      ],
      "metadata": {
        "id": "-XpnXs7rezfF"
      }
    },
    {
      "cell_type": "markdown",
      "source": [
        "2. Explain the difference between mutable and immutable data types\n",
        "   with examples.\n",
        "\n",
        "    --Mutable Data Types:\n",
        "      * Objects whose values can be changed in place without\n",
        "        changing their identity (memory address).\n",
        "\n",
        "      * Mutable objects can be modified directly.\n",
        "\n",
        "      * They allow operations like appending, updating, or deleting elements.\n",
        "\n",
        "      * Example:Lists, Dictionaries, Sets, User-defined classes."
      ],
      "metadata": {
        "id": "sylE9WTJiYmv"
      }
    },
    {
      "cell_type": "code",
      "execution_count": 1,
      "metadata": {
        "colab": {
          "base_uri": "https://localhost:8080/"
        },
        "id": "GKcEAkfJdttv",
        "outputId": "aeaf5905-4984-4bca-d397-964e6e719d7e"
      },
      "outputs": [
        {
          "output_type": "stream",
          "name": "stdout",
          "text": [
            "Before: [1, 2, 3]\n",
            "After: [1, 2, 3, 4]\n"
          ]
        }
      ],
      "source": [
        "\n",
        "my_list = [1, 2, 3]\n",
        "print(\"Before:\", my_list)\n",
        "\n",
        "my_list.append(4)\n",
        "print(\"After:\", my_list)\n"
      ]
    },
    {
      "cell_type": "markdown",
      "source": [
        "       --Immutable Data Types:\n",
        "         * Objects whose values cannot be changed after they are\n",
        "           created. Any modification results in the creation of a new object.\n",
        "         * Immutable objects cannot be modified in place.\n",
        "         * Operations that appear to modify an immutable object\n",
        "           actually create a new object.\n",
        "         * Examples: Integers, Floats, Strings, Tuples, Frozensets.\n",
        "         "
      ],
      "metadata": {
        "id": "K0mhj5FmmM4k"
      }
    },
    {
      "cell_type": "markdown",
      "source": [],
      "metadata": {
        "id": "RfXWdCb0mL82"
      }
    },
    {
      "cell_type": "code",
      "source": [
        "# Immutable: String\n",
        "my_string = \"Hello\"\n",
        "print(\"Before:\", my_string)\n",
        "\n",
        "new_string = my_string + \" World\"  # Creates a new string\n",
        "print(\"After:\", my_string)        # Original remains unchanged\n",
        "print(\"New String:\", new_string)\n"
      ],
      "metadata": {
        "colab": {
          "base_uri": "https://localhost:8080/"
        },
        "id": "Rj83JeMHnRQ-",
        "outputId": "ea8d4f1d-c43a-40b9-86cf-d15f64a42769"
      },
      "execution_count": 2,
      "outputs": [
        {
          "output_type": "stream",
          "name": "stdout",
          "text": [
            "Before: Hello\n",
            "After: Hello\n",
            "New String: Hello World\n"
          ]
        }
      ]
    },
    {
      "cell_type": "markdown",
      "source": [
        "3. What are the main differences between lists and tuples in\n",
        "   Python?\n",
        "   \n",
        "   Lists and tuples are both sequence data types in Python, but they differ in several key aspects, including mutability, performance, and usage.\n",
        "\n",
        "   (1) Mutability:\n",
        "      \n",
        "      * List: Mutable (can be modified after creation).\n",
        "      * Tuple: Immutable (cannot be modified after creation).\n",
        "\n",
        "   (2) Syntax:\n",
        "      \n",
        "      * List: Defined using square brackets [].\n",
        "      * Tuple: Defined using parentheses ()."
      ],
      "metadata": {
        "id": "vmKkwPCunfXl"
      }
    },
    {
      "cell_type": "code",
      "source": [
        "my_list = [1, 2, 3]  # List\n",
        "my_tuple = (1, 2, 3)  # Tuple\n"
      ],
      "metadata": {
        "id": "3nDaZkIhrxRm"
      },
      "execution_count": 3,
      "outputs": []
    },
    {
      "cell_type": "markdown",
      "source": [
        "      (3) Performamce:\n",
        "          * List: Slower due to dynamic resizing and the overhead\n",
        "            of mutability.\n",
        "            \n",
        "          * Tuple: Faster, as they are optimized for immutability\n",
        "            and have a fixed size.\n",
        "\n",
        "      (4) Size:\n",
        "          * List: Generally consumes more memory because of its\n",
        "                  mutable nature.\n",
        "\n",
        "          * Tuple: Consumes less memory."
      ],
      "metadata": {
        "id": "QTJ6UlGMr5RN"
      }
    },
    {
      "cell_type": "markdown",
      "source": [
        "4. Describe how dictionaries store data\n",
        "   * Dictionaries are used to store data values in key:value pairs.\n",
        "   * A dictionary is a collection which is ordered, changeable and\n",
        "     do not allow duplicates.\n",
        "   *  They are highly efficient for operations like insertion,\n",
        "      deletion, and retrieval."
      ],
      "metadata": {
        "id": "NnqC_hTztz73"
      }
    },
    {
      "cell_type": "markdown",
      "source": [
        "5. Why might you use a set instead of a list in Python?\n",
        "   * You might use a set instead of a list in Python when you need\n",
        "     to store unique elements and require fast membership tests.\n",
        "     (1) Uniqueness:\n",
        "        * Set: Automatically ensures all elements are unique.\n",
        "\n",
        "        * List: Allows duplicate elements.\n",
        "\n",
        "     (2) Faster Membership Tests:\n",
        "        * Set: Membership checks (e.g., element in set) are faster\n",
        "              because sets use a hash table for lookups, resulting in O(1) average time complexity.\n",
        "\n",
        "        * List: Membership checks require scanning the list,\n",
        "                resulting in O(n) time complexity.\n",
        "\n",
        "      (3) When Order Doesn't Matter:\n",
        "        * Set: Unordered collection (no guarantee of element\n",
        "               order) which can save memory and computation time.\n",
        "  \n",
        "        * List: Ordered collection (preserves the sequence of\n",
        "                elements)."
      ],
      "metadata": {
        "id": "lIgXwYTQIAJr"
      }
    },
    {
      "cell_type": "markdown",
      "source": [
        "6. What is a string in Python, and how is it different from a list?\n",
        "   * A string in Python is a sequence of characters enclosed in\n",
        "     quotes.\n",
        "   * Strings can be defined using single ('), double (\"), or  \n",
        "     triple quotes (''' or \"\"\").\n",
        "\n",
        "     Differences:\n",
        "\n",
        "\n",
        "  (1) Purpose:\n",
        "      \n",
        "      * String: Stores textual data.\n",
        "      * List: Stores collections of any data type.\n",
        "\n",
        "  (2) Data Type:\n",
        "\n",
        "      * String: Always stores characters.\n",
        "      * List : Can store mixed data types (e.g., integers,  \n",
        "              strings, objects).\n",
        "  (3) Mutability:\n",
        "       \n",
        "      * String: Immutable.\n",
        "      * List: Mutable.\n",
        "\n",
        "  (4) Syntax:\n",
        "      \n",
        "      * String:Enclosed in quotes (\" \" or ' ').\n",
        "      * List:Enclosed in square brackets ([ ]).\n",
        "       \n",
        "      "
      ],
      "metadata": {
        "id": "bLxculdeKRx8"
      }
    },
    {
      "cell_type": "markdown",
      "source": [
        "7.  How do tuples ensure data integrity in Python?\n",
        "    * Tuples ensure data integrity in Python by being an immutable\n",
        "      data structure.\n",
        "    * This immutability means that once a tuple is created, its\n",
        "      elements cannot be modified, added, or removed.\n",
        "    "
      ],
      "metadata": {
        "id": "Wa8AmbxiOMYq"
      }
    },
    {
      "cell_type": "markdown",
      "source": [
        "8. What is a hash table, and how does it relate to dictionaries\n",
        "   in  Python?\n",
        "   * A hash table is a data structure that stores data in an\n",
        "     associative manner, using a key-value pair system.\n",
        "   * The core concept of a hash table is that it uses a hash\n",
        "     function to convert keys into hash codes (indices), which determine where the corresponding values will be stored in an underlying array.\n",
        "\n",
        "   * In Python, dictionaries are implemented using hash tables     under the hood. When you create a dictionary, Python internally\n",
        "   creates a hash table to store the key-value pairs.\n",
        "\n",
        "   * A dictionary stores data in the form of key-value pairs, just\n",
        "     like a hash table. Each key is hashed to find a corresponding index in the hash table, and the value is stored at that index.\n",
        "   * Python computes the hash value for the key using a hash\n",
        "     function (hash()).\n",
        "   * This hash value is used to find an index in the internal hash table.\n",
        "   * The corresponding value is stored at that index.\n",
        "   * In a case where two keys hash to the same index (a  collision), Python’s dictionary uses a technique called open addressing (probing) to handle it, storing both values at different positions in the table.  \n",
        "\n"
      ],
      "metadata": {
        "id": "VDNCxDCPO8rT"
      }
    },
    {
      "cell_type": "markdown",
      "source": [
        "9. Can lists contain different data types in Python?\n",
        "   * Yes, lists in Python can contain elements of different data\n",
        "     types.\n",
        "   * This flexibility is one of the features that make Python's\n",
        "     lists very versatile."
      ],
      "metadata": {
        "id": "JazGlhpha3HC"
      }
    },
    {
      "cell_type": "markdown",
      "source": [
        "10.  Explain why strings are immutable in Python?\n",
        "     * Strings in Python are immutable because once a string is\n",
        "       created, its content cannot be modified.\n",
        "     * This design choice is made for several important reasons:\n",
        "       (1) Immutable objects can be stored more efficiently in\n",
        "           memory. Python can optimize the storage of strings by reusing memory for identical string values (interning). When strings are immutable, Python can safely share memory for strings with the same content rather than creating duplicate copies. This reduces memory consumption.\n",
        "\n",
        "       (2) Safety:No accidental changes to string data, leading  \n",
        "                   to more reliable code.\n",
        "       (3) Consistency: The hash value of strings remains\n",
        "           unchanged, making them reliable as dictionary keys.\n",
        "\n"
      ],
      "metadata": {
        "id": "FN5LLCGVbPIC"
      }
    },
    {
      "cell_type": "markdown",
      "source": [
        "11. What advantages do dictionaries offer over lists for certain\n",
        "    tasks?\n",
        "    * Dictionaries offer several advantages over lists for certain\n",
        "      tasks, especially when it comes to efficient lookups, key-value associations, and faster data retrieval.\n",
        "    * Here are the main reasons why you might prefer dictionaries\n",
        "      over lists in certain situations:\n",
        "        (1) Faster Lookups by Key (Constant Time Complexity).\n",
        "\n",
        "        (2) Key-Value Pair Storage (Associative Arrays).\n",
        "\n",
        "        (3) Efficient Data Modification.\n",
        "\n",
        "        (4) Handling Non-Sequential Data.\n",
        "\n",
        "        (5) Storing Unique Keys\n",
        "\n"
      ],
      "metadata": {
        "id": "GH3L-Dv7cNYp"
      }
    },
    {
      "cell_type": "markdown",
      "source": [
        "12. Describe a scenario where using a tuple would be preferable\n",
        "    over a list.\n",
        "    * If you have a collection of related data that should remain constant throughout the program, a tuple is the ideal choice. For example:\n",
        "\n",
        "    Example: Coordinates or Geographical .\n",
        "    You are storing the latitude and longitude of a location:"
      ],
      "metadata": {
        "id": "dI1ZEXLQelS6"
      }
    },
    {
      "cell_type": "code",
      "source": [
        "location = (37.7749, -122.4194)  # Latitude and Longitude of San Francisco\n"
      ],
      "metadata": {
        "id": "5tBf0SOOgN3J"
      },
      "execution_count": null,
      "outputs": []
    },
    {
      "cell_type": "markdown",
      "source": [
        "13. How do sets handle duplicate values in Python?\n",
        "   * In Python, sets automatically handle duplicate values by\n",
        "     eliminating them.\n",
        "   * When elements are added to a set, any duplicates are removed,\n",
        "     leaving only unique elements.\n",
        "   * This behavior is intrinsic to how sets are implemented in\n",
        "     Python and aligns with the mathematical definition of a set, which only contains unique elements.\n",
        "   * Sets store only unique elements. If you try to add a duplicate, it is ignored.\n",
        "   * Sets do not maintain any specific order of elements."
      ],
      "metadata": {
        "id": "O1my9TSxgPkK"
      }
    },
    {
      "cell_type": "markdown",
      "source": [
        "14.  How does the “in” keyword work differently for lists and\n",
        "     dictionaries.\n",
        "     (1). For Lists:\n",
        "          * The in keyword checks whether a given value is present\n",
        "            the list.\n",
        "          * It performs a linear search, meaning it iterates through the list until it finds a match or reaches the end.\n",
        "     (2) 2. For Dictionaries:\n",
        "          * The in keyword checks for the presence of a key, not a value, in the dictionary.\n",
        "          * It does this by leveraging the hash table\n",
        "            implementation of dictionaries, making it much faster than a linear search.   \n",
        "     "
      ],
      "metadata": {
        "id": "LIHkw5vWhMK7"
      }
    },
    {
      "cell_type": "markdown",
      "source": [
        "15. Can you modify the elements of a tuple? Explain why or why not.\n",
        "    * No, you cannot modify the elements of a tuple in Python.\n",
        "    * This is because tuples are immutable, meaning their content\n",
        "      cannot be changed once they are created.\n",
        "    * This immutability is a fundamental characteristic of tuples\n",
        "      in Python and differentiates them from lists."
      ],
      "metadata": {
        "id": "eE2NGiXxiWOj"
      }
    },
    {
      "cell_type": "markdown",
      "source": [
        "16. What is a nested dictionary, and give an example of its use\n",
        "    case.\n",
        "   * A nested dictionary is a dictionary within another dictionary.\n",
        "   *  It allows you to organize and represent hierarchical or\n",
        "      complex data structures in a structured way.\n",
        "   * Example Use Case: Nested Dictionary.\n",
        "    \n",
        "   * Use Case: Storing Information About Employees\n",
        "     Suppose you want to store information about employees in an organization, including their department and role details.\n",
        "\n"
      ],
      "metadata": {
        "id": "6pnM0i3ei6SE"
      }
    },
    {
      "cell_type": "code",
      "source": [
        "employees = {\n",
        "    \"Alice\": {\n",
        "        \"department\": \"Engineering\",\n",
        "        \"role\": \"Software Engineer\",\n",
        "        \"skills\": [\"Python\", \"Machine Learning\", \"AWS\"]\n",
        "    },\n",
        "    \"Bob\": {\n",
        "        \"department\": \"Marketing\",\n",
        "        \"role\": \"Marketing Specialist\",\n",
        "        \"skills\": [\"SEO\", \"Content Creation\", \"Google Ads\"]\n",
        "    },\n",
        "    \"Charlie\": {\n",
        "        \"department\": \"HR\",\n",
        "        \"role\": \"HR Manager\",\n",
        "        \"skills\": [\"Recruitment\", \"Conflict Resolution\", \"Payroll\"]\n",
        "    }\n",
        "}\n",
        "\n",
        "# Accessing nested data\n",
        "print(employees[\"Alice\"][\"department\"])\n",
        "print(employees[\"Bob\"][\"skills\"])\n"
      ],
      "metadata": {
        "id": "w6FLsaJVjhAr"
      },
      "execution_count": null,
      "outputs": []
    },
    {
      "cell_type": "markdown",
      "source": [
        "17. Describe the time complexity of accessing elements in a\n",
        "   dictionary .\n",
        "   * The time complexity of accessing elements in a dictionary in\n",
        "     Python is generally O(1) (constant time), thanks to the underlying hash table implementation.  \n",
        "   * The time complexity of accessing elements in a dictionary in\n",
        "     Python is generally O(1) (constant time), thanks to the underlying hash table implementation.\n",
        "   * The key directly maps to a unique bucket in the hash table,  \n",
        "     so the value is retrieved in constant time."
      ],
      "metadata": {
        "id": "J5F0iFTCjnEM"
      }
    },
    {
      "cell_type": "markdown",
      "source": [
        "18.  In what situations are lists preferred over dictionaries.\n",
        "     * Lists and dictionaries are both versatile data structures  \n",
        "       in Python, but they are suited to different use cases. Lists are preferred over dictionaries in situations where:\n",
        "      (1) Order Matters\n",
        "        Lists maintain the order of elements, making them ideal for scenarios where the sequence of data is significant.\n",
        "      (2)  Access by Index\n",
        "          Lists allow index-based access, which is useful when you need to access elements by their position rather than by a unique key.\n",
        "\n",
        "      (3)  Homogeneous Data\n",
        "          Lists are ideal for storing homogeneous data (data of the same type), such as numbers, strings, or objects of the same class.\n",
        "      (4) Iteration Over Values\n",
        "          Lists are often preferred when you need to iterate over all values in a collection.\n",
        "      (5) Iteration Over Values\n",
        "          Lists are often preferred when you need to iterate over all values in a collection.  "
      ],
      "metadata": {
        "id": "v0JT9J51kXY1"
      }
    },
    {
      "cell_type": "markdown",
      "source": [
        "19. Why are dictionaries considered unordered, and how does that\n",
        "    affect data retrieval?\n",
        "    * Dictionaries in Python are considered unordered because they\n",
        "      are implemented using hash tables, which do not maintain a predictable or consistent order of the key-value pairs in versions of Python prior to 3.7.\n",
        "    * Dictionaries are backed by a hash table, where keys are  hashed to determine the location of their associated values in\n",
        "      memory.\n",
        "    * The arrangement of key-value pairs in memory depends on the  hash values of the keys, not the sequence in which they are inserted.\n",
        "    * When a dictionary grows beyond its current capacity, it\n",
        "      resizes itself, which may result in reordering of elements internally."
      ],
      "metadata": {
        "id": "ghhmJAizlec0"
      }
    },
    {
      "cell_type": "markdown",
      "source": [
        "20.  Explain the difference between a list and a dictionary in\n",
        "    terms of data retrieval.\n",
        "    (1) Access Mechanism\n",
        "       * List: Access elements using integer indices (positions).\n",
        "       * Dictionary: Access elements using unique keys.\n",
        "    (2) Data Organization\n",
        "        * List: Elements are stored sequentially and identified by\n",
        "               their position (index).\n",
        "               Useful when the order of elements matters.\n",
        "        * Dictionary: Elements are stored as key-value pairs,    where keys act as unique identifiers.\n",
        "             Useful when fast lookups by unique identifiers are needed.\n",
        "    (3) Use Case\n",
        "        * List: Best for ordered collections or sequences where  \n",
        "                the position of elements matters (e.g., maintaining a queue or a stack).\n",
        "        * Dictionary: Best for scenarios requiring quick lookups,\n",
        "                     where data can be uniquely identified by keys (e.g., storing user profiles with IDs)."
      ],
      "metadata": {
        "id": "OXtgUjISmM5a"
      }
    },
    {
      "cell_type": "markdown",
      "source": [
        "# Practical Questions"
      ],
      "metadata": {
        "id": "H93cL8Qyneze"
      }
    },
    {
      "cell_type": "markdown",
      "source": [
        "1. Write a code to create a string with your name and print it."
      ],
      "metadata": {
        "id": "24lgAURsnkRq"
      }
    },
    {
      "cell_type": "code",
      "source": [
        "\n",
        "name = \"Manimala\"\n",
        "\n",
        "# Print the string\n",
        "print(name)\n"
      ],
      "metadata": {
        "colab": {
          "base_uri": "https://localhost:8080/"
        },
        "id": "6deI3MSYnzCJ",
        "outputId": "9c4fb485-9866-4115-fbfe-ea0f4a373d41"
      },
      "execution_count": 1,
      "outputs": [
        {
          "output_type": "stream",
          "name": "stdout",
          "text": [
            "Manimala\n"
          ]
        }
      ]
    },
    {
      "cell_type": "markdown",
      "source": [
        "2. Write a code to find the length of the string \"Hello World\"."
      ],
      "metadata": {
        "id": "O_M0ZklhoAF8"
      }
    },
    {
      "cell_type": "code",
      "source": [
        "\n",
        "string = \"Hello World\"\n",
        "\n",
        "length = len(string)\n",
        "print(length)\n"
      ],
      "metadata": {
        "colab": {
          "base_uri": "https://localhost:8080/"
        },
        "id": "7YpYiPRboB7j",
        "outputId": "85a301fd-e96d-44ae-a8fb-d34121823cbc"
      },
      "execution_count": 2,
      "outputs": [
        {
          "output_type": "stream",
          "name": "stdout",
          "text": [
            "11\n"
          ]
        }
      ]
    },
    {
      "cell_type": "markdown",
      "source": [
        "3.  Write a code to slice the first 3 characters from the string\n",
        "   \"Python Programming\"."
      ],
      "metadata": {
        "id": "yj_6cKZeoIaU"
      }
    },
    {
      "cell_type": "code",
      "source": [
        "\n",
        "string = \"Python Programming\"\n",
        "\n",
        "sliced_string = string[:3]\n",
        "\n",
        "print(sliced_string)\n"
      ],
      "metadata": {
        "colab": {
          "base_uri": "https://localhost:8080/"
        },
        "id": "2oBsloQToRtl",
        "outputId": "ad83b080-702c-445e-ee9b-fb44cc20919b"
      },
      "execution_count": 3,
      "outputs": [
        {
          "output_type": "stream",
          "name": "stdout",
          "text": [
            "Pyt\n"
          ]
        }
      ]
    },
    {
      "cell_type": "markdown",
      "source": [
        "4. Write a code to convert the string \"hello\" to uppercase."
      ],
      "metadata": {
        "id": "_6BxGriqoZ9T"
      }
    },
    {
      "cell_type": "code",
      "source": [
        "\n",
        "string = \"hello\"\n",
        "\n",
        "uppercase_string = string.upper()\n",
        "\n",
        "print(uppercase_string)\n"
      ],
      "metadata": {
        "colab": {
          "base_uri": "https://localhost:8080/"
        },
        "id": "9C3dmmNxohO8",
        "outputId": "fd18cea5-4713-4909-d174-c384254d897b"
      },
      "execution_count": 4,
      "outputs": [
        {
          "output_type": "stream",
          "name": "stdout",
          "text": [
            "HELLO\n"
          ]
        }
      ]
    },
    {
      "cell_type": "markdown",
      "source": [
        "5. Write a code to replace the word \"apple\" with \"orange\" in the\n",
        "   string \"I like apple\"."
      ],
      "metadata": {
        "id": "gyQ4_T3xonxP"
      }
    },
    {
      "cell_type": "code",
      "source": [
        "\n",
        "string = \"I like apple\"\n",
        "\n",
        "modified_string = string.replace(\"apple\", \"orange\")\n",
        "\n",
        "print(modified_string)\n"
      ],
      "metadata": {
        "colab": {
          "base_uri": "https://localhost:8080/"
        },
        "id": "EXlvUWMlozfS",
        "outputId": "a80469b7-f431-4898-a946-54e3675924f0"
      },
      "execution_count": 5,
      "outputs": [
        {
          "output_type": "stream",
          "name": "stdout",
          "text": [
            "I like orange\n"
          ]
        }
      ]
    },
    {
      "cell_type": "markdown",
      "source": [
        "6.  Write a code to create a list with numbers 1 to 5 and print it.\n"
      ],
      "metadata": {
        "id": "XU8MHdtionwC"
      }
    },
    {
      "cell_type": "code",
      "source": [
        "\n",
        "numbers = [1, 2, 3, 4, 5]\n",
        "print(numbers)\n"
      ],
      "metadata": {
        "colab": {
          "base_uri": "https://localhost:8080/"
        },
        "id": "7-invRpqpF1i",
        "outputId": "b937b963-1601-45e3-9ea2-c512468c8e8f"
      },
      "execution_count": 6,
      "outputs": [
        {
          "output_type": "stream",
          "name": "stdout",
          "text": [
            "[1, 2, 3, 4, 5]\n"
          ]
        }
      ]
    },
    {
      "cell_type": "markdown",
      "source": [
        "7.  Write a code to append the number 10 to the list [1, 2, 3, 4]"
      ],
      "metadata": {
        "id": "3QW8Yof4pJTi"
      }
    },
    {
      "cell_type": "code",
      "source": [
        "\n",
        "my_list = [1, 2, 3, 4]\n",
        "\n",
        "my_list.append(10)\n",
        "\n",
        "print(my_list)\n"
      ],
      "metadata": {
        "colab": {
          "base_uri": "https://localhost:8080/"
        },
        "id": "epeitwE8pW-c",
        "outputId": "928d48b7-bbde-4b29-b34e-cf28286dcef1"
      },
      "execution_count": 7,
      "outputs": [
        {
          "output_type": "stream",
          "name": "stdout",
          "text": [
            "[1, 2, 3, 4, 10]\n"
          ]
        }
      ]
    },
    {
      "cell_type": "markdown",
      "source": [
        "8. Write a code to remove the number 3 from the list [1, 2, 3, 4,5]"
      ],
      "metadata": {
        "id": "fj6M0oeUpali"
      }
    },
    {
      "cell_type": "code",
      "source": [
        "\n",
        "my_list = [1, 2, 3, 4, 5]\n",
        "my_list.remove(3)\n",
        "print(my_list)\n"
      ],
      "metadata": {
        "colab": {
          "base_uri": "https://localhost:8080/"
        },
        "id": "Kh7_rwWBpkIS",
        "outputId": "c1e9abb0-7faf-4cb2-ad01-009c1eacf568"
      },
      "execution_count": 8,
      "outputs": [
        {
          "output_type": "stream",
          "name": "stdout",
          "text": [
            "[1, 2, 4, 5]\n"
          ]
        }
      ]
    },
    {
      "cell_type": "markdown",
      "source": [
        "9. Write a code to access the second element in the list ['a','b',\n",
        "    'c', 'd']"
      ],
      "metadata": {
        "id": "deSkzcyTprur"
      }
    },
    {
      "cell_type": "code",
      "source": [
        "\n",
        "my_list = ['a', 'b', 'c', 'd']\n",
        "\n",
        "second_element = my_list[1]\n",
        "\n",
        "print(second_element)\n"
      ],
      "metadata": {
        "colab": {
          "base_uri": "https://localhost:8080/"
        },
        "id": "wzOYgeAPp15r",
        "outputId": "216cc281-9c2c-4b6f-d84c-9fe5df1073ef"
      },
      "execution_count": 9,
      "outputs": [
        {
          "output_type": "stream",
          "name": "stdout",
          "text": [
            "b\n"
          ]
        }
      ]
    },
    {
      "cell_type": "markdown",
      "source": [
        "10. Write a code to reverse the list [10, 20, 30, 40, 50]"
      ],
      "metadata": {
        "id": "n0KScuYup8zb"
      }
    },
    {
      "cell_type": "code",
      "source": [
        "\n",
        "my_list = [10, 20, 30, 40, 50]\n",
        "\n",
        "reversed_list = my_list[::-1]\n",
        "\n",
        "print(reversed_list)\n"
      ],
      "metadata": {
        "colab": {
          "base_uri": "https://localhost:8080/"
        },
        "id": "HIgeU1Y_qF-z",
        "outputId": "fb43081a-ddde-4d05-a51d-2962b8075711"
      },
      "execution_count": 10,
      "outputs": [
        {
          "output_type": "stream",
          "name": "stdout",
          "text": [
            "[50, 40, 30, 20, 10]\n"
          ]
        }
      ]
    },
    {
      "cell_type": "markdown",
      "source": [
        "11. Write a code to create a tuple with the elements 10, 20, 30  \n",
        "    and print it."
      ],
      "metadata": {
        "id": "q5FQs1XaqKZC"
      }
    },
    {
      "cell_type": "code",
      "source": [
        "\n",
        "my_tuple = (10, 20, 30)\n",
        "print(my_tuple)\n",
        "\n"
      ],
      "metadata": {
        "colab": {
          "base_uri": "https://localhost:8080/"
        },
        "id": "uvx2kGkzqULM",
        "outputId": "7d9063c3-29ef-4e9f-c7a9-0b8dc494a2c1"
      },
      "execution_count": 11,
      "outputs": [
        {
          "output_type": "stream",
          "name": "stdout",
          "text": [
            "(10, 20, 30)\n"
          ]
        }
      ]
    },
    {
      "cell_type": "markdown",
      "source": [
        "12. Write a code to access the first element of the tuple  \n",
        "    ('apple', 'banana', 'cherry')."
      ],
      "metadata": {
        "id": "1Q8sQ95yqbhb"
      }
    },
    {
      "cell_type": "code",
      "source": [
        "\n",
        "my_tuple = ('apple', 'banana', 'cherry')\n",
        "first_element = my_tuple[0]\n",
        "print(first_element)\n"
      ],
      "metadata": {
        "colab": {
          "base_uri": "https://localhost:8080/"
        },
        "id": "nPUbKGagqid7",
        "outputId": "885bd4e4-5481-4b92-8c10-7cb5bad05852"
      },
      "execution_count": 12,
      "outputs": [
        {
          "output_type": "stream",
          "name": "stdout",
          "text": [
            "apple\n"
          ]
        }
      ]
    },
    {
      "cell_type": "markdown",
      "source": [
        "13. Write a code to count how many times the number 2 appears in\n",
        "    the tuple (1, 2, 3, 2, 4, 2)."
      ],
      "metadata": {
        "id": "CEy5GwcDqrxa"
      }
    },
    {
      "cell_type": "code",
      "source": [
        "\n",
        "my_tuple = (1, 2, 3, 2, 4, 2)\n",
        "count_2 = my_tuple.count(2)\n",
        "print(count_2)\n"
      ],
      "metadata": {
        "colab": {
          "base_uri": "https://localhost:8080/"
        },
        "id": "vlERehHyq1D6",
        "outputId": "75af3fcf-73ed-4292-c764-58428f59b015"
      },
      "execution_count": 13,
      "outputs": [
        {
          "output_type": "stream",
          "name": "stdout",
          "text": [
            "3\n"
          ]
        }
      ]
    },
    {
      "cell_type": "markdown",
      "source": [
        "14. Write a code to find the index of the element \"cat\" in the\n",
        "    tuple ('dog', 'cat', 'rabbit')."
      ],
      "metadata": {
        "id": "XyDGfxHWq5cz"
      }
    },
    {
      "cell_type": "code",
      "source": [
        "\n",
        "my_tuple = ('dog', 'cat', 'rabbit')\n",
        "\n",
        "index_of_cat = my_tuple.index('cat')\n",
        "\n",
        "print(index_of_cat)\n"
      ],
      "metadata": {
        "colab": {
          "base_uri": "https://localhost:8080/"
        },
        "id": "T7O2bneGrBWi",
        "outputId": "7dcdef77-2fc3-4757-cb76-396de94acc9e"
      },
      "execution_count": 14,
      "outputs": [
        {
          "output_type": "stream",
          "name": "stdout",
          "text": [
            "1\n"
          ]
        }
      ]
    },
    {
      "cell_type": "markdown",
      "source": [
        "15. Write a code to check if the element \"banana\" is in the tuple\n",
        "    ('apple', 'orange', 'banana')."
      ],
      "metadata": {
        "id": "fUKQ7fyWrFt0"
      }
    },
    {
      "cell_type": "code",
      "source": [
        "\n",
        "my_tuple = ('apple', 'orange', 'banana')\n",
        "\n",
        "is_banana_in_tuple = 'banana' in my_tuple\n",
        "\n",
        "print(is_banana_in_tuple)\n"
      ],
      "metadata": {
        "colab": {
          "base_uri": "https://localhost:8080/"
        },
        "id": "OGR6qDatrSTi",
        "outputId": "8b5d1b1d-31d2-4f8b-f777-a8e3acf44a65"
      },
      "execution_count": 15,
      "outputs": [
        {
          "output_type": "stream",
          "name": "stdout",
          "text": [
            "True\n"
          ]
        }
      ]
    },
    {
      "cell_type": "markdown",
      "source": [
        "16.  Write a code to create a set with the elements 1, 2, 3, 4, 5\n",
        "     and print it."
      ],
      "metadata": {
        "id": "f-MVpyqBrFsb"
      }
    },
    {
      "cell_type": "code",
      "source": [
        "\n",
        "my_set = {1, 2, 3, 4, 5}\n",
        "print(my_set)\n"
      ],
      "metadata": {
        "colab": {
          "base_uri": "https://localhost:8080/"
        },
        "id": "WsBuqMzSrety",
        "outputId": "9a4c7ef7-68c9-48dc-bfc8-8e6dae4db50d"
      },
      "execution_count": 16,
      "outputs": [
        {
          "output_type": "stream",
          "name": "stdout",
          "text": [
            "{1, 2, 3, 4, 5}\n"
          ]
        }
      ]
    },
    {
      "cell_type": "markdown",
      "source": [
        "17. Write a code to add the element 6 to the set {1, 2, 3, 4}."
      ],
      "metadata": {
        "id": "ceL8bu9BrkG8"
      }
    },
    {
      "cell_type": "code",
      "source": [
        "\n",
        "my_set = {1, 2, 3, 4}\n",
        "my_set.add(6)\n",
        "print(my_set)\n"
      ],
      "metadata": {
        "colab": {
          "base_uri": "https://localhost:8080/"
        },
        "id": "QQSu9-U2rtUT",
        "outputId": "493b4c61-3653-4cea-e7d6-4b4d308e5889"
      },
      "execution_count": 17,
      "outputs": [
        {
          "output_type": "stream",
          "name": "stdout",
          "text": [
            "{1, 2, 3, 4, 6}\n"
          ]
        }
      ]
    },
    {
      "cell_type": "markdown",
      "source": [
        "18. Write a code to create a tuple with the elements 10, 20, 30  \n",
        "    and print it."
      ],
      "metadata": {
        "id": "f5xH0Xlfr0Fz"
      }
    },
    {
      "cell_type": "code",
      "source": [
        "\n",
        "my_tuple = (10, 20, 30)\n",
        "print(my_tuple)\n"
      ],
      "metadata": {
        "colab": {
          "base_uri": "https://localhost:8080/"
        },
        "id": "KRSE24-Nr6f6",
        "outputId": "544f9985-7fb1-4e5a-e9e1-1d34e1bd4329"
      },
      "execution_count": 18,
      "outputs": [
        {
          "output_type": "stream",
          "name": "stdout",
          "text": [
            "(10, 20, 30)\n"
          ]
        }
      ]
    },
    {
      "cell_type": "markdown",
      "source": [
        "19.  Write a code to access the first element of the tuple\n",
        "     ('apple', 'banana', 'cherry')."
      ],
      "metadata": {
        "id": "9JgCTl8UsBIC"
      }
    },
    {
      "cell_type": "code",
      "source": [
        "\n",
        "my_tuple = ('apple', 'banana', 'cherry')\n",
        "first_element = my_tuple[0]\n",
        "print(first_element)\n"
      ],
      "metadata": {
        "colab": {
          "base_uri": "https://localhost:8080/"
        },
        "id": "wfwTc5-WsDub",
        "outputId": "c00c17fc-0e39-4d59-9df6-9360443a144a"
      },
      "execution_count": 19,
      "outputs": [
        {
          "output_type": "stream",
          "name": "stdout",
          "text": [
            "apple\n"
          ]
        }
      ]
    },
    {
      "cell_type": "markdown",
      "source": [
        "20.  Write a code to count how many times the number 2 appears in\n",
        "     the tuple (1, 2, 3, 2, 4, 2)."
      ],
      "metadata": {
        "id": "gccpxVztsQtr"
      }
    },
    {
      "cell_type": "code",
      "source": [
        "\n",
        "my_tuple = (1, 2, 3, 2, 4, 2)\n",
        "\n",
        "\n",
        "count_2 = my_tuple.count(2)\n",
        "\n",
        "\n",
        "print(count_2)\n"
      ],
      "metadata": {
        "colab": {
          "base_uri": "https://localhost:8080/"
        },
        "id": "GI6Hf3oTsaJF",
        "outputId": "2945c585-9549-4676-b641-c8ecef2e0d71"
      },
      "execution_count": 20,
      "outputs": [
        {
          "output_type": "stream",
          "name": "stdout",
          "text": [
            "3\n"
          ]
        }
      ]
    },
    {
      "cell_type": "markdown",
      "source": [
        "21.  Write a code to find the index of the element \"cat\" in the\n",
        "     tuple ('dog', 'cat', 'rabbit')."
      ],
      "metadata": {
        "id": "lAATZ52hsfmj"
      }
    },
    {
      "cell_type": "code",
      "source": [
        "\n",
        "my_tuple = ('dog', 'cat', 'rabbit')\n",
        "\n",
        "\n",
        "index_of_cat = my_tuple.index('cat')\n",
        "\n",
        "\n",
        "print(index_of_cat)\n"
      ],
      "metadata": {
        "colab": {
          "base_uri": "https://localhost:8080/"
        },
        "id": "r_CarBL-smRr",
        "outputId": "c45d33cb-aa06-4582-f24a-d0e217a390c7"
      },
      "execution_count": 21,
      "outputs": [
        {
          "output_type": "stream",
          "name": "stdout",
          "text": [
            "1\n"
          ]
        }
      ]
    },
    {
      "cell_type": "markdown",
      "source": [
        "22.  Write a code to check if the element \"banana\" is in the tuple\n",
        "    ('apple', 'orange', 'banana')."
      ],
      "metadata": {
        "id": "Au9fyfO5stL7"
      }
    },
    {
      "cell_type": "code",
      "source": [
        "\n",
        "my_tuple = ('apple', 'orange', 'banana')\n",
        "\n",
        "is_banana_in_tuple = 'banana' in my_tuple\n",
        "\n",
        "print(is_banana_in_tuple)\n"
      ],
      "metadata": {
        "colab": {
          "base_uri": "https://localhost:8080/"
        },
        "id": "atS_XGETsz8n",
        "outputId": "b2e24f0c-63b6-43f1-9e24-1b05054ca42f"
      },
      "execution_count": 22,
      "outputs": [
        {
          "output_type": "stream",
          "name": "stdout",
          "text": [
            "True\n"
          ]
        }
      ]
    },
    {
      "cell_type": "markdown",
      "source": [
        "23. Write a code to create a set with the elements 1, 2, 3, 4, 5\n",
        "    and print it."
      ],
      "metadata": {
        "id": "oFEH2POjs78L"
      }
    },
    {
      "cell_type": "code",
      "source": [
        "\n",
        "my_set = {1, 2, 3, 4, 5}\n",
        "print(my_set)\n"
      ],
      "metadata": {
        "colab": {
          "base_uri": "https://localhost:8080/"
        },
        "id": "CtMpewG2tBS8",
        "outputId": "bc419107-12e5-4afd-c249-d27426066252"
      },
      "execution_count": 23,
      "outputs": [
        {
          "output_type": "stream",
          "name": "stdout",
          "text": [
            "{1, 2, 3, 4, 5}\n"
          ]
        }
      ]
    },
    {
      "cell_type": "markdown",
      "source": [
        "24.  Write a code to add the element 6 to the set {1, 2, 3, 4}."
      ],
      "metadata": {
        "id": "k3GRqD_9tHgn"
      }
    },
    {
      "cell_type": "code",
      "source": [
        "\n",
        "my_set = {1, 2, 3, 4}\n",
        "\n",
        "my_set.add(6)\n",
        "\n",
        "print(my_set)\n"
      ],
      "metadata": {
        "colab": {
          "base_uri": "https://localhost:8080/"
        },
        "id": "DflhTSXhtOS6",
        "outputId": "f6c4abcc-af18-4726-e4c0-1641d942ed43"
      },
      "execution_count": 24,
      "outputs": [
        {
          "output_type": "stream",
          "name": "stdout",
          "text": [
            "{1, 2, 3, 4, 6}\n"
          ]
        }
      ]
    },
    {
      "cell_type": "markdown",
      "source": [],
      "metadata": {
        "id": "UlKafEwotHe6"
      }
    }
  ]
}